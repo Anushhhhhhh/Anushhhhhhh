{
 "cells": [
  {
   "cell_type": "code",
   "execution_count": 111,
   "metadata": {},
   "outputs": [],
   "source": [
    "import pandas as pd\n",
    "import numpy as np\n",
    "import matplotlib as plt\n"
   ]
  },
  {
   "cell_type": "code",
   "execution_count": 112,
   "metadata": {},
   "outputs": [],
   "source": [
    "transactions = pd.read_csv(\"transactions.csv\")\n",
    "merchants_train = pd.read_csv(\"merchants_train.csv\")\n",
    "merchants_test = pd.read_csv(\"merchants_test.csv\")\n",
    "credit_train = pd.read_csv(\"credit_train.csv\",encoding='latin-1')\n",
    "credit_test = pd.read_csv(\"credit_test.csv\", encoding =\"latin-1\")"
   ]
  },
  {
   "cell_type": "code",
   "execution_count": 113,
   "metadata": {},
   "outputs": [
    {
     "data": {
      "text/html": [
       "<div>\n",
       "<style scoped>\n",
       "    .dataframe tbody tr th:only-of-type {\n",
       "        vertical-align: middle;\n",
       "    }\n",
       "\n",
       "    .dataframe tbody tr th {\n",
       "        vertical-align: top;\n",
       "    }\n",
       "\n",
       "    .dataframe thead th {\n",
       "        text-align: right;\n",
       "    }\n",
       "</style>\n",
       "<table border=\"1\" class=\"dataframe\">\n",
       "  <thead>\n",
       "    <tr style=\"text-align: right;\">\n",
       "      <th></th>\n",
       "      <th>merchant_id</th>\n",
       "      <th>latitude</th>\n",
       "      <th>longitude</th>\n",
       "      <th>real_transaction_dttm</th>\n",
       "      <th>record_date</th>\n",
       "    </tr>\n",
       "  </thead>\n",
       "  <tbody>\n",
       "    <tr>\n",
       "      <th>0</th>\n",
       "      <td>178</td>\n",
       "      <td>0.000000</td>\n",
       "      <td>0.000000</td>\n",
       "      <td>9:34:47</td>\n",
       "      <td>9:30:36</td>\n",
       "    </tr>\n",
       "    <tr>\n",
       "      <th>1</th>\n",
       "      <td>178</td>\n",
       "      <td>55.055996</td>\n",
       "      <td>82.912991</td>\n",
       "      <td>17:49:50</td>\n",
       "      <td>17:54:24</td>\n",
       "    </tr>\n",
       "    <tr>\n",
       "      <th>2</th>\n",
       "      <td>178</td>\n",
       "      <td>0.000000</td>\n",
       "      <td>0.000000</td>\n",
       "      <td>9:34:47</td>\n",
       "      <td>9:31:22</td>\n",
       "    </tr>\n",
       "    <tr>\n",
       "      <th>3</th>\n",
       "      <td>178</td>\n",
       "      <td>55.056034</td>\n",
       "      <td>82.912734</td>\n",
       "      <td>17:49:50</td>\n",
       "      <td>17:43:01</td>\n",
       "    </tr>\n",
       "    <tr>\n",
       "      <th>4</th>\n",
       "      <td>178</td>\n",
       "      <td>55.056034</td>\n",
       "      <td>82.912734</td>\n",
       "      <td>17:49:50</td>\n",
       "      <td>17:45:17</td>\n",
       "    </tr>\n",
       "  </tbody>\n",
       "</table>\n",
       "</div>"
      ],
      "text/plain": [
       "   merchant_id   latitude  longitude real_transaction_dttm record_date\n",
       "0          178   0.000000   0.000000               9:34:47     9:30:36\n",
       "1          178  55.055996  82.912991              17:49:50    17:54:24\n",
       "2          178   0.000000   0.000000               9:34:47     9:31:22\n",
       "3          178  55.056034  82.912734              17:49:50    17:43:01\n",
       "4          178  55.056034  82.912734              17:49:50    17:45:17"
      ]
     },
     "execution_count": 113,
     "metadata": {},
     "output_type": "execute_result"
    }
   ],
   "source": [
    "transactions.head()"
   ]
  },
  {
   "cell_type": "code",
   "execution_count": 114,
   "metadata": {},
   "outputs": [
    {
     "name": "stdout",
     "output_type": "stream",
     "text": [
      "<class 'pandas.core.frame.DataFrame'>\n",
      "RangeIndex: 249353 entries, 0 to 249352\n",
      "Data columns (total 5 columns):\n",
      " #   Column                 Non-Null Count   Dtype  \n",
      "---  ------                 --------------   -----  \n",
      " 0   merchant_id            249353 non-null  int64  \n",
      " 1   latitude               249353 non-null  float64\n",
      " 2   longitude              249353 non-null  float64\n",
      " 3   real_transaction_dttm  249353 non-null  object \n",
      " 4   record_date            249353 non-null  object \n",
      "dtypes: float64(2), int64(1), object(2)\n",
      "memory usage: 9.5+ MB\n"
     ]
    }
   ],
   "source": [
    "transactions.info()"
   ]
  },
  {
   "cell_type": "code",
   "execution_count": 115,
   "metadata": {},
   "outputs": [
    {
     "data": {
      "text/plain": [
       "(249353, 5)"
      ]
     },
     "execution_count": 115,
     "metadata": {},
     "output_type": "execute_result"
    }
   ],
   "source": [
    "transactions.shape"
   ]
  },
  {
   "cell_type": "code",
   "execution_count": 116,
   "metadata": {},
   "outputs": [
    {
     "data": {
      "text/plain": [
       "merchant_id              0\n",
       "latitude                 0\n",
       "longitude                0\n",
       "real_transaction_dttm    0\n",
       "record_date              0\n",
       "dtype: int64"
      ]
     },
     "execution_count": 116,
     "metadata": {},
     "output_type": "execute_result"
    }
   ],
   "source": [
    "transactions.isnull().sum()\n",
    "# Data is Clean, doesn't contain any missing values\n"
   ]
  },
  {
   "cell_type": "code",
   "execution_count": 117,
   "metadata": {},
   "outputs": [
    {
     "name": "stdout",
     "output_type": "stream",
     "text": [
      "<class 'pandas.core.frame.DataFrame'>\n",
      "RangeIndex: 6482 entries, 0 to 6481\n",
      "Data columns (total 1 columns):\n",
      " #   Column                          Non-Null Count  Dtype \n",
      "---  ------                          --------------  ----- \n",
      " 0   merchant_id;latitude;longitude  6482 non-null   object\n",
      "dtypes: object(1)\n",
      "memory usage: 50.8+ KB\n"
     ]
    },
    {
     "data": {
      "text/plain": [
       "(6482, 1)"
      ]
     },
     "execution_count": 117,
     "metadata": {},
     "output_type": "execute_result"
    }
   ],
   "source": [
    "merchants_train.head()\n",
    "merchants_train.columns\n",
    "merchants_train.info()\n",
    "merchants_train.shape\n",
    "# Need to split the columns and the rows "
   ]
  },
  {
   "cell_type": "code",
   "execution_count": 118,
   "metadata": {},
   "outputs": [],
   "source": [
    "merchants_train_splitted = merchants_train[\"merchant_id;latitude;longitude\"].str.split(\";\",expand=True)\n",
    "#merchants_train_splitted.head()\n",
    "# Splitted Columns and got three new columns with Wrong Names\n",
    "# Have to change the name of the columns\n"
   ]
  },
  {
   "cell_type": "code",
   "execution_count": 119,
   "metadata": {},
   "outputs": [
    {
     "data": {
      "text/html": [
       "<div>\n",
       "<style scoped>\n",
       "    .dataframe tbody tr th:only-of-type {\n",
       "        vertical-align: middle;\n",
       "    }\n",
       "\n",
       "    .dataframe tbody tr th {\n",
       "        vertical-align: top;\n",
       "    }\n",
       "\n",
       "    .dataframe thead th {\n",
       "        text-align: right;\n",
       "    }\n",
       "</style>\n",
       "<table border=\"1\" class=\"dataframe\">\n",
       "  <thead>\n",
       "    <tr style=\"text-align: right;\">\n",
       "      <th></th>\n",
       "      <th>merchant_id</th>\n",
       "      <th>latitude</th>\n",
       "      <th>longitude</th>\n",
       "    </tr>\n",
       "  </thead>\n",
       "  <tbody>\n",
       "    <tr>\n",
       "      <th>0</th>\n",
       "      <td>178</td>\n",
       "      <td>55.055553</td>\n",
       "      <td>82.911833</td>\n",
       "    </tr>\n",
       "    <tr>\n",
       "      <th>1</th>\n",
       "      <td>267</td>\n",
       "      <td>55.726877</td>\n",
       "      <td>37.579645</td>\n",
       "    </tr>\n",
       "    <tr>\n",
       "      <th>2</th>\n",
       "      <td>357</td>\n",
       "      <td>54.706402</td>\n",
       "      <td>20.47142</td>\n",
       "    </tr>\n",
       "    <tr>\n",
       "      <th>3</th>\n",
       "      <td>505</td>\n",
       "      <td>64.553811</td>\n",
       "      <td>40.551964</td>\n",
       "    </tr>\n",
       "    <tr>\n",
       "      <th>4</th>\n",
       "      <td>532</td>\n",
       "      <td>55.768355</td>\n",
       "      <td>49.217176</td>\n",
       "    </tr>\n",
       "    <tr>\n",
       "      <th>...</th>\n",
       "      <td>...</td>\n",
       "      <td>...</td>\n",
       "      <td>...</td>\n",
       "    </tr>\n",
       "    <tr>\n",
       "      <th>6477</th>\n",
       "      <td>1786127</td>\n",
       "      <td>55.713755</td>\n",
       "      <td>37.889762</td>\n",
       "    </tr>\n",
       "    <tr>\n",
       "      <th>6478</th>\n",
       "      <td>1827295</td>\n",
       "      <td>55.656707</td>\n",
       "      <td>37.85577</td>\n",
       "    </tr>\n",
       "    <tr>\n",
       "      <th>6479</th>\n",
       "      <td>1834870</td>\n",
       "      <td>55.761685</td>\n",
       "      <td>37.658527</td>\n",
       "    </tr>\n",
       "    <tr>\n",
       "      <th>6480</th>\n",
       "      <td>1836812</td>\n",
       "      <td>55.761685</td>\n",
       "      <td>37.658527</td>\n",
       "    </tr>\n",
       "    <tr>\n",
       "      <th>6481</th>\n",
       "      <td>1869302</td>\n",
       "      <td>55.633221</td>\n",
       "      <td>37.624247</td>\n",
       "    </tr>\n",
       "  </tbody>\n",
       "</table>\n",
       "<p>6482 rows × 3 columns</p>\n",
       "</div>"
      ],
      "text/plain": [
       "     merchant_id   latitude  longitude\n",
       "0            178  55.055553  82.911833\n",
       "1            267  55.726877  37.579645\n",
       "2            357  54.706402   20.47142\n",
       "3            505  64.553811  40.551964\n",
       "4            532  55.768355  49.217176\n",
       "...          ...        ...        ...\n",
       "6477     1786127  55.713755  37.889762\n",
       "6478     1827295  55.656707   37.85577\n",
       "6479     1834870  55.761685  37.658527\n",
       "6480     1836812  55.761685  37.658527\n",
       "6481     1869302  55.633221  37.624247\n",
       "\n",
       "[6482 rows x 3 columns]"
      ]
     },
     "execution_count": 119,
     "metadata": {},
     "output_type": "execute_result"
    }
   ],
   "source": [
    "#merchants_train_splitted.rename(columns={\"0\":\"merchant_id\",\"1\":\"latitude\",\"2\":\"longitude\"},inplace=True)\n",
    "#merchants_train_splitted.head()\n",
    "merchants_train_splitted.rename(columns ={0:\"merchant_id\", 1:\"latitude\", 2:\"longitude\"},inplace=True)\n",
    "merchants_train_splitted\n",
    "# Name of the Columns has been changed \n"
   ]
  },
  {
   "cell_type": "code",
   "execution_count": 120,
   "metadata": {},
   "outputs": [
    {
     "name": "stdout",
     "output_type": "stream",
     "text": [
      "<class 'pandas.core.frame.DataFrame'>\n",
      "RangeIndex: 3524 entries, 0 to 3523\n",
      "Data columns (total 1 columns):\n",
      " #   Column                          Non-Null Count  Dtype \n",
      "---  ------                          --------------  ----- \n",
      " 0   merchant_id;latitude;longitude  3524 non-null   object\n",
      "dtypes: object(1)\n",
      "memory usage: 27.7+ KB\n"
     ]
    }
   ],
   "source": [
    "merchants_test.head()\n",
    "merchants_test.info()\n",
    "# Need to split to too"
   ]
  },
  {
   "cell_type": "code",
   "execution_count": 121,
   "metadata": {},
   "outputs": [
    {
     "data": {
      "text/html": [
       "<div>\n",
       "<style scoped>\n",
       "    .dataframe tbody tr th:only-of-type {\n",
       "        vertical-align: middle;\n",
       "    }\n",
       "\n",
       "    .dataframe tbody tr th {\n",
       "        vertical-align: top;\n",
       "    }\n",
       "\n",
       "    .dataframe thead th {\n",
       "        text-align: right;\n",
       "    }\n",
       "</style>\n",
       "<table border=\"1\" class=\"dataframe\">\n",
       "  <thead>\n",
       "    <tr style=\"text-align: right;\">\n",
       "      <th></th>\n",
       "      <th>0</th>\n",
       "      <th>1</th>\n",
       "      <th>2</th>\n",
       "    </tr>\n",
       "  </thead>\n",
       "  <tbody>\n",
       "    <tr>\n",
       "      <th>0</th>\n",
       "      <td>361</td>\n",
       "      <td></td>\n",
       "      <td></td>\n",
       "    </tr>\n",
       "    <tr>\n",
       "      <th>1</th>\n",
       "      <td>428</td>\n",
       "      <td></td>\n",
       "      <td></td>\n",
       "    </tr>\n",
       "    <tr>\n",
       "      <th>2</th>\n",
       "      <td>490</td>\n",
       "      <td></td>\n",
       "      <td></td>\n",
       "    </tr>\n",
       "    <tr>\n",
       "      <th>3</th>\n",
       "      <td>1175</td>\n",
       "      <td></td>\n",
       "      <td></td>\n",
       "    </tr>\n",
       "    <tr>\n",
       "      <th>4</th>\n",
       "      <td>1239</td>\n",
       "      <td></td>\n",
       "      <td></td>\n",
       "    </tr>\n",
       "  </tbody>\n",
       "</table>\n",
       "</div>"
      ],
      "text/plain": [
       "      0 1 2\n",
       "0   361    \n",
       "1   428    \n",
       "2   490    \n",
       "3  1175    \n",
       "4  1239    "
      ]
     },
     "execution_count": 121,
     "metadata": {},
     "output_type": "execute_result"
    }
   ],
   "source": [
    "# Splitting the data\n",
    "merchants_test.head()\n",
    "merchants_test_splitted = merchants_test[\"merchant_id;latitude;longitude\"].str.split(\";\",expand=True)\n",
    "merchants_test_splitted.head()"
   ]
  },
  {
   "cell_type": "code",
   "execution_count": 122,
   "metadata": {},
   "outputs": [
    {
     "data": {
      "text/html": [
       "<div>\n",
       "<style scoped>\n",
       "    .dataframe tbody tr th:only-of-type {\n",
       "        vertical-align: middle;\n",
       "    }\n",
       "\n",
       "    .dataframe tbody tr th {\n",
       "        vertical-align: top;\n",
       "    }\n",
       "\n",
       "    .dataframe thead th {\n",
       "        text-align: right;\n",
       "    }\n",
       "</style>\n",
       "<table border=\"1\" class=\"dataframe\">\n",
       "  <thead>\n",
       "    <tr style=\"text-align: right;\">\n",
       "      <th></th>\n",
       "      <th>merchant_id</th>\n",
       "      <th>latitude</th>\n",
       "      <th>longitude</th>\n",
       "    </tr>\n",
       "  </thead>\n",
       "  <tbody>\n",
       "    <tr>\n",
       "      <th>0</th>\n",
       "      <td>361</td>\n",
       "      <td></td>\n",
       "      <td></td>\n",
       "    </tr>\n",
       "    <tr>\n",
       "      <th>1</th>\n",
       "      <td>428</td>\n",
       "      <td></td>\n",
       "      <td></td>\n",
       "    </tr>\n",
       "    <tr>\n",
       "      <th>2</th>\n",
       "      <td>490</td>\n",
       "      <td></td>\n",
       "      <td></td>\n",
       "    </tr>\n",
       "    <tr>\n",
       "      <th>3</th>\n",
       "      <td>1175</td>\n",
       "      <td></td>\n",
       "      <td></td>\n",
       "    </tr>\n",
       "    <tr>\n",
       "      <th>4</th>\n",
       "      <td>1239</td>\n",
       "      <td></td>\n",
       "      <td></td>\n",
       "    </tr>\n",
       "  </tbody>\n",
       "</table>\n",
       "</div>"
      ],
      "text/plain": [
       "  merchant_id latitude longitude\n",
       "0         361                   \n",
       "1         428                   \n",
       "2         490                   \n",
       "3        1175                   \n",
       "4        1239                   "
      ]
     },
     "execution_count": 122,
     "metadata": {},
     "output_type": "execute_result"
    }
   ],
   "source": [
    "# Splitted the data but last two rows are empty, probably have to merge the values\n",
    "# from other datasets\n",
    "# Change the name of the Columns\n",
    "merchants_test_splitted.rename(columns={0:\"merchant_id\", 1:\"latitude\", 2:\"longitude\"}, inplace=True)\n",
    "merchants_test_splitted.head()\n",
    "# Names are changed and fixed!\n"
   ]
  },
  {
   "cell_type": "code",
   "execution_count": 123,
   "metadata": {},
   "outputs": [
    {
     "data": {
      "text/html": [
       "<div>\n",
       "<style scoped>\n",
       "    .dataframe tbody tr th:only-of-type {\n",
       "        vertical-align: middle;\n",
       "    }\n",
       "\n",
       "    .dataframe tbody tr th {\n",
       "        vertical-align: top;\n",
       "    }\n",
       "\n",
       "    .dataframe thead th {\n",
       "        text-align: right;\n",
       "    }\n",
       "</style>\n",
       "<table border=\"1\" class=\"dataframe\">\n",
       "  <thead>\n",
       "    <tr style=\"text-align: right;\">\n",
       "      <th></th>\n",
       "      <th></th>\n",
       "      <th>client_id;gender;age;marital_status;job_position;credit_sum;credit_month;tariff_id;score_shk;education;living_region;monthly_income;credit_count;overdue_credit_count;open_account_flg</th>\n",
       "    </tr>\n",
       "  </thead>\n",
       "  <tbody>\n",
       "    <tr>\n",
       "      <th>1;M;48;MAR;UMN;59998</th>\n",
       "      <th>00;10;1.6;0</th>\n",
       "      <td>770249;GRD;ÊÐÀÑÍÎÄÀÐÑÊÈÉ ÊÐÀÉ;30000;1;1;0</td>\n",
       "    </tr>\n",
       "    <tr>\n",
       "      <th>2;F;28;MAR;UMN;10889</th>\n",
       "      <th>00;6;1.1;0</th>\n",
       "      <td>248514;GRD;ÌÎÑÊÂÀ;43000;2;0;0</td>\n",
       "    </tr>\n",
       "    <tr>\n",
       "      <th>3;M;32;MAR;SPC;10728</th>\n",
       "      <th>00;12;1.1;0</th>\n",
       "      <td>459589;SCH;ÎÁË ÑÀÐÀÒÎÂÑÊÀß;23000;5;0;0</td>\n",
       "    </tr>\n",
       "    <tr>\n",
       "      <th>4;F;27;DIV;SPC;12009</th>\n",
       "      <th>09;12;1.1;0</th>\n",
       "      <td>362536;GRD;ÎÁË ÂÎËÃÎÃÐÀÄÑÊÀß;17000;2;0;0</td>\n",
       "    </tr>\n",
       "    <tr>\n",
       "      <th>5;M;45;MAR;SPC;16908</th>\n",
       "      <th>89;10;1.1;0</th>\n",
       "      <td>421385;SCH;×ÅËßÁÈÍÑÊÀß ÎÁËÀÑÒÜ;25000;1;0;0</td>\n",
       "    </tr>\n",
       "  </tbody>\n",
       "</table>\n",
       "</div>"
      ],
      "text/plain": [
       "                                 client_id;gender;age;marital_status;job_position;credit_sum;credit_month;tariff_id;score_shk;education;living_region;monthly_income;credit_count;overdue_credit_count;open_account_flg\n",
       "1;M;48;MAR;UMN;59998 00;10;1.6;0          770249;GRD;ÊÐÀÑÍÎÄÀÐÑÊÈÉ ÊÐÀÉ;30000;1;1;0                                                                                                                                    \n",
       "2;F;28;MAR;UMN;10889 00;6;1.1;0                       248514;GRD;ÌÎÑÊÂÀ;43000;2;0;0                                                                                                                                    \n",
       "3;M;32;MAR;SPC;10728 00;12;1.1;0             459589;SCH;ÎÁË ÑÀÐÀÒÎÂÑÊÀß;23000;5;0;0                                                                                                                                    \n",
       "4;F;27;DIV;SPC;12009 09;12;1.1;0           362536;GRD;ÎÁË ÂÎËÃÎÃÐÀÄÑÊÀß;17000;2;0;0                                                                                                                                    \n",
       "5;M;45;MAR;SPC;16908 89;10;1.1;0         421385;SCH;×ÅËßÁÈÍÑÊÀß ÎÁËÀÑÒÜ;25000;1;0;0                                                                                                                                    "
      ]
     },
     "execution_count": 123,
     "metadata": {},
     "output_type": "execute_result"
    }
   ],
   "source": [
    "#credit_train = pd.read_csv(\"credit_train.csv\")\n",
    "#credit_train = pd.read_csv('credit_train.csv',encoding='latin-1')\n",
    "credit_train.head()\n",
    "# Fix the Data"
   ]
  },
  {
   "cell_type": "code",
   "execution_count": 124,
   "metadata": {},
   "outputs": [
    {
     "name": "stdout",
     "output_type": "stream",
     "text": [
      "<class 'pandas.core.frame.DataFrame'>\n",
      "MultiIndex: 170746 entries, ('1;M;48;MAR;UMN;59998', '00;10;1.6;0') to ('170746;M;49;MAR;SPC;12787', '00;10;1.1;0')\n",
      "Data columns (total 1 columns):\n",
      " #   Column                                                                                                                                                                                  Non-Null Count   Dtype \n",
      "---  ------                                                                                                                                                                                  --------------   ----- \n",
      " 0   client_id;gender;age;marital_status;job_position;credit_sum;credit_month;tariff_id;score_shk;education;living_region;monthly_income;credit_count;overdue_credit_count;open_account_flg  170746 non-null  object\n",
      "dtypes: object(1)\n",
      "memory usage: 7.7+ MB\n"
     ]
    }
   ],
   "source": [
    "credit_train.info()"
   ]
  },
  {
   "cell_type": "code",
   "execution_count": 125,
   "metadata": {},
   "outputs": [
    {
     "name": "stdout",
     "output_type": "stream",
     "text": [
      "<class 'pandas.core.frame.DataFrame'>\n",
      "MultiIndex: 170746 entries, ('1;M;48;MAR;UMN;59998', '00;10;1.6;0') to ('170746;M;49;MAR;SPC;12787', '00;10;1.1;0')\n",
      "Data columns (total 7 columns):\n",
      " #   Column          Non-Null Count   Dtype \n",
      "---  ------          --------------   ----- \n",
      " 0   client_id       170746 non-null  object\n",
      " 1   gender          170746 non-null  object\n",
      " 2   age             170746 non-null  object\n",
      " 3   marital_status  170746 non-null  object\n",
      " 4   job_position    170746 non-null  object\n",
      " 5   credit_sum      170746 non-null  object\n",
      " 6   credit_month    170746 non-null  object\n",
      "dtypes: object(7)\n",
      "memory usage: 15.5+ MB\n"
     ]
    }
   ],
   "source": [
    "credit_train_splitted = credit_train[\"client_id;gender;age;marital_status;job_position;credit_sum;credit_month;tariff_id;score_shk;education;living_region;monthly_income;credit_count;overdue_credit_count;open_account_flg\"].str.split(\";\",expand=True)\n",
    "# Total must be 16 - Columns\n",
    "# Total rows must be 17\n",
    "#credit_train_splitted.head()\n",
    "#credit_train_splitted[0].str.split(\";\",expand = True)\n",
    "#credit_train_splitted.info()\n",
    "credit_train_splitted.rename(columns={0:\"client_id\", 1:\"gender\", 2:\"age\", 3:\"marital_status\", 4:\"job_position\", 5:\"credit_sum\", 6:\"credit_month\"},inplace=True)\n",
    "credit_train_splitted.info()"
   ]
  },
  {
   "cell_type": "code",
   "execution_count": 169,
   "metadata": {},
   "outputs": [
    {
     "data": {
      "text/plain": [
       "0    770249\n",
       "1    248514\n",
       "2    459589\n",
       "3    362536\n",
       "4    421385\n",
       "Name: client_id, dtype: object"
      ]
     },
     "execution_count": 169,
     "metadata": {},
     "output_type": "execute_result"
    }
   ],
   "source": [
    "# Split the rows inside the data\n",
    "from numpy import column_stack\n",
    "\n",
    "credit_train_splitted[\"client_id\"].head()\n",
    "#credit_train_splitted[[\"client\",\"client2\",\"client3\",\"client4\",\"client5\",\"client6\",\"client7\",\"client8\",\"client9\",\"client10\",\"client11\"]] = credit_train_splitted[\"client_id\"].str.split(\";\", expand=True)"
   ]
  },
  {
   "cell_type": "code",
   "execution_count": 168,
   "metadata": {},
   "outputs": [
    {
     "data": {
      "text/plain": [
       "0    770249\n",
       "1    248514\n",
       "2    459589\n",
       "Name: client_id, dtype: object"
      ]
     },
     "execution_count": 168,
     "metadata": {},
     "output_type": "execute_result"
    }
   ],
   "source": [
    "\n",
    "credit_train_splitted[\"client_id\"].head(3)\n"
   ]
  },
  {
   "cell_type": "code",
   "execution_count": 170,
   "metadata": {},
   "outputs": [
    {
     "data": {
      "text/html": [
       "<div>\n",
       "<style scoped>\n",
       "    .dataframe tbody tr th:only-of-type {\n",
       "        vertical-align: middle;\n",
       "    }\n",
       "\n",
       "    .dataframe tbody tr th {\n",
       "        vertical-align: top;\n",
       "    }\n",
       "\n",
       "    .dataframe thead th {\n",
       "        text-align: right;\n",
       "    }\n",
       "</style>\n",
       "<table border=\"1\" class=\"dataframe\">\n",
       "  <thead>\n",
       "    <tr style=\"text-align: right;\">\n",
       "      <th></th>\n",
       "      <th>client_id</th>\n",
       "      <th>age</th>\n",
       "      <th>marital_status</th>\n",
       "      <th>job_position</th>\n",
       "      <th>credit_sum</th>\n",
       "      <th>credit_month</th>\n",
       "      <th>gender</th>\n",
       "    </tr>\n",
       "  </thead>\n",
       "  <tbody>\n",
       "    <tr>\n",
       "      <th>0</th>\n",
       "      <td>770249</td>\n",
       "      <td>ÊÐÀÑÍÎÄÀÐÑÊÈÉ ÊÐÀÉ</td>\n",
       "      <td>30000</td>\n",
       "      <td>1</td>\n",
       "      <td>1</td>\n",
       "      <td>0</td>\n",
       "      <td>GRD</td>\n",
       "    </tr>\n",
       "    <tr>\n",
       "      <th>1</th>\n",
       "      <td>248514</td>\n",
       "      <td>ÌÎÑÊÂÀ</td>\n",
       "      <td>43000</td>\n",
       "      <td>2</td>\n",
       "      <td>0</td>\n",
       "      <td>0</td>\n",
       "      <td>GRD</td>\n",
       "    </tr>\n",
       "    <tr>\n",
       "      <th>2</th>\n",
       "      <td>459589</td>\n",
       "      <td>ÎÁË ÑÀÐÀÒÎÂÑÊÀß</td>\n",
       "      <td>23000</td>\n",
       "      <td>5</td>\n",
       "      <td>0</td>\n",
       "      <td>0</td>\n",
       "      <td>SCH</td>\n",
       "    </tr>\n",
       "  </tbody>\n",
       "</table>\n",
       "</div>"
      ],
      "text/plain": [
       "  client_id                 age marital_status job_position credit_sum  \\\n",
       "0    770249  ÊÐÀÑÍÎÄÀÐÑÊÈÉ ÊÐÀÉ          30000            1          1   \n",
       "1    248514              ÌÎÑÊÂÀ          43000            2          0   \n",
       "2    459589     ÎÁË ÑÀÐÀÒÎÂÑÊÀß          23000            5          0   \n",
       "\n",
       "  credit_month gender  \n",
       "0            0    GRD  \n",
       "1            0    GRD  \n",
       "2            0    SCH  "
      ]
     },
     "execution_count": 170,
     "metadata": {},
     "output_type": "execute_result"
    }
   ],
   "source": [
    "credit_train_splitted[\"client_id\"] = credit_train_splitted[\"client_id\"].str.split(\";\",expand=True)\n",
    "credit_train_splitted = credit_train_splitted.explode(\"client_id\").reset_index(drop=True)\n",
    "#cols = list(credit_train_splitted.columns)\n",
    "#cols.append(cols.pop(cols.index(\"gender\")))\n",
    "#credit_train_splitted = credit_train_splitted[cols]\n",
    "credit_train_splitted.head(3)"
   ]
  },
  {
   "cell_type": "code",
   "execution_count": 127,
   "metadata": {},
   "outputs": [
    {
     "name": "stdout",
     "output_type": "stream",
     "text": [
      "<class 'pandas.core.frame.DataFrame'>\n",
      "MultiIndex: 170746 entries, ('1;M;48;MAR;UMN;59998', '00;10;1.6;0') to ('170746;M;49;MAR;SPC;12787', '00;10;1.1;0')\n",
      "Data columns (total 7 columns):\n",
      " #   Column          Non-Null Count   Dtype \n",
      "---  ------          --------------   ----- \n",
      " 0   client_id       170746 non-null  object\n",
      " 1   gender          170746 non-null  object\n",
      " 2   age             170746 non-null  object\n",
      " 3   marital_status  170746 non-null  object\n",
      " 4   job_position    170746 non-null  object\n",
      " 5   credit_sum      170746 non-null  object\n",
      " 6   credit_month    170746 non-null  object\n",
      "dtypes: object(7)\n",
      "memory usage: 15.5+ MB\n"
     ]
    }
   ],
   "source": [
    "credit_train_splitted.info()"
   ]
  },
  {
   "cell_type": "code",
   "execution_count": 128,
   "metadata": {},
   "outputs": [
    {
     "data": {
      "text/html": [
       "<div>\n",
       "<style scoped>\n",
       "    .dataframe tbody tr th:only-of-type {\n",
       "        vertical-align: middle;\n",
       "    }\n",
       "\n",
       "    .dataframe tbody tr th {\n",
       "        vertical-align: top;\n",
       "    }\n",
       "\n",
       "    .dataframe thead th {\n",
       "        text-align: right;\n",
       "    }\n",
       "</style>\n",
       "<table border=\"1\" class=\"dataframe\">\n",
       "  <thead>\n",
       "    <tr style=\"text-align: right;\">\n",
       "      <th></th>\n",
       "      <th></th>\n",
       "      <th>client_id;gender;age;marital_status;job_position;credit_sum;credit_month;tariff_id;score_shk;education;living_region;monthly_income;credit_count;overdue_credit_count</th>\n",
       "    </tr>\n",
       "  </thead>\n",
       "  <tbody>\n",
       "    <tr>\n",
       "      <th>170747;F;48;MAR;UMN;16558</th>\n",
       "      <th>00;10;1.1;0</th>\n",
       "      <td>370409;GRD;ÕÀÊÀÑÈß ÐÅÑÏ;34000;2;0</td>\n",
       "    </tr>\n",
       "    <tr>\n",
       "      <th>170748;M;29;MAR;SPC;7028</th>\n",
       "      <th>72;6;1.4;0</th>\n",
       "      <td>377281;SCH;ÎÁË ÊÅÌÅÐÎÂÑÊÀß;19000;3;0</td>\n",
       "    </tr>\n",
       "    <tr>\n",
       "      <th>170749;F;20;UNM;SPC;13019</th>\n",
       "      <th>00;10;1.6;0</th>\n",
       "      <td>538515;SCH;ÎÁË ÁÅËÃÎÐÎÄÑÊÀß;25000;1;0</td>\n",
       "    </tr>\n",
       "    <tr>\n",
       "      <th>170750;F;41;MAR;SPC;9379</th>\n",
       "      <th>00;10;1.1;0</th>\n",
       "      <td>482520;GRD;ÎÁË ÈÐÊÓÒÑÊÀß;30000;0;0</td>\n",
       "    </tr>\n",
       "    <tr>\n",
       "      <th>170751;F;31;MAR;SPC;13990</th>\n",
       "      <th>00;6;1.43;0</th>\n",
       "      <td>485914;GRD;ÎÁË ÊÈÐÎÂÑÊÀß;20000;2;0</td>\n",
       "    </tr>\n",
       "  </tbody>\n",
       "</table>\n",
       "</div>"
      ],
      "text/plain": [
       "                                      client_id;gender;age;marital_status;job_position;credit_sum;credit_month;tariff_id;score_shk;education;living_region;monthly_income;credit_count;overdue_credit_count\n",
       "170747;F;48;MAR;UMN;16558 00;10;1.1;0                  370409;GRD;ÕÀÊÀÑÈß ÐÅÑÏ;34000;2;0                                                                                                                   \n",
       "170748;M;29;MAR;SPC;7028  72;6;1.4;0                377281;SCH;ÎÁË ÊÅÌÅÐÎÂÑÊÀß;19000;3;0                                                                                                                   \n",
       "170749;F;20;UNM;SPC;13019 00;10;1.6;0              538515;SCH;ÎÁË ÁÅËÃÎÐÎÄÑÊÀß;25000;1;0                                                                                                                   \n",
       "170750;F;41;MAR;SPC;9379  00;10;1.1;0                 482520;GRD;ÎÁË ÈÐÊÓÒÑÊÀß;30000;0;0                                                                                                                   \n",
       "170751;F;31;MAR;SPC;13990 00;6;1.43;0                 485914;GRD;ÎÁË ÊÈÐÎÂÑÊÀß;20000;2;0                                                                                                                   "
      ]
     },
     "execution_count": 128,
     "metadata": {},
     "output_type": "execute_result"
    }
   ],
   "source": [
    "#credit_test = pd.read_csv(\"credit_test.csv\", encoding = \"latin-1\")\n",
    "credit_test.head()\n",
    "# Fix the Data"
   ]
  },
  {
   "cell_type": "code",
   "execution_count": 172,
   "metadata": {},
   "outputs": [
    {
     "name": "stdout",
     "output_type": "stream",
     "text": [
      "<class 'pandas.core.frame.DataFrame'>\n",
      "MultiIndex: 91940 entries, ('170747;F;48;MAR;UMN;16558', '00;10;1.1;0') to ('262686;M;44;MAR;SPC;31176', '00;6;1.5;0')\n",
      "Data columns (total 1 columns):\n",
      " #   Column                                                                                                                                                                 Non-Null Count  Dtype \n",
      "---  ------                                                                                                                                                                 --------------  ----- \n",
      " 0   client_id;gender;age;marital_status;job_position;credit_sum;credit_month;tariff_id;score_shk;education;living_region;monthly_income;credit_count;overdue_credit_count  91940 non-null  object\n",
      "dtypes: object(1)\n",
      "memory usage: 4.0+ MB\n"
     ]
    }
   ],
   "source": [
    "credit_test.info()\n"
   ]
  },
  {
   "cell_type": "code",
   "execution_count": 184,
   "metadata": {},
   "outputs": [],
   "source": [
    "#credit_test[[\"client_id\",\"gender\",\"age\",\"marital_status\",\"job_position\",\"credit_sum\",\"credit_month\",\"tariff_id\",\"score_shk\",\"education\",\"living_region\",\"monthly_income\",\"credit_count\",\"overdue_credit_count\"]] = #\n",
    "credit_test_splitted = credit_test[\"client_id;gender;age;marital_status;job_position;credit_sum;credit_month;tariff_id;score_shk;education;living_region;monthly_income;credit_count;overdue_credit_count\"].str.split(\";\",expand=True)"
   ]
  },
  {
   "cell_type": "code",
   "execution_count": 200,
   "metadata": {},
   "outputs": [],
   "source": [
    "#credit_test_splitted.info()\n"
   ]
  },
  {
   "cell_type": "code",
   "execution_count": 212,
   "metadata": {},
   "outputs": [
    {
     "data": {
      "text/html": [
       "<div>\n",
       "<style scoped>\n",
       "    .dataframe tbody tr th:only-of-type {\n",
       "        vertical-align: middle;\n",
       "    }\n",
       "\n",
       "    .dataframe tbody tr th {\n",
       "        vertical-align: top;\n",
       "    }\n",
       "\n",
       "    .dataframe thead th {\n",
       "        text-align: right;\n",
       "    }\n",
       "</style>\n",
       "<table border=\"1\" class=\"dataframe\">\n",
       "  <thead>\n",
       "    <tr style=\"text-align: right;\">\n",
       "      <th></th>\n",
       "      <th></th>\n",
       "      <th>0</th>\n",
       "      <th>1</th>\n",
       "      <th>2</th>\n",
       "      <th>3</th>\n",
       "      <th>4</th>\n",
       "      <th>5</th>\n",
       "      <th>client_id</th>\n",
       "    </tr>\n",
       "  </thead>\n",
       "  <tbody>\n",
       "    <tr>\n",
       "      <th>170747;F;48;MAR;UMN;16558</th>\n",
       "      <th>00;10;1.1;0</th>\n",
       "      <td>370409</td>\n",
       "      <td>GRD</td>\n",
       "      <td>ÕÀÊÀÑÈß ÐÅÑÏ</td>\n",
       "      <td>34000</td>\n",
       "      <td>2</td>\n",
       "      <td>0</td>\n",
       "      <td>370409</td>\n",
       "    </tr>\n",
       "    <tr>\n",
       "      <th>170748;M;29;MAR;SPC;7028</th>\n",
       "      <th>72;6;1.4;0</th>\n",
       "      <td>377281</td>\n",
       "      <td>SCH</td>\n",
       "      <td>ÎÁË ÊÅÌÅÐÎÂÑÊÀß</td>\n",
       "      <td>19000</td>\n",
       "      <td>3</td>\n",
       "      <td>0</td>\n",
       "      <td>377281</td>\n",
       "    </tr>\n",
       "    <tr>\n",
       "      <th>170749;F;20;UNM;SPC;13019</th>\n",
       "      <th>00;10;1.6;0</th>\n",
       "      <td>538515</td>\n",
       "      <td>SCH</td>\n",
       "      <td>ÎÁË ÁÅËÃÎÐÎÄÑÊÀß</td>\n",
       "      <td>25000</td>\n",
       "      <td>1</td>\n",
       "      <td>0</td>\n",
       "      <td>538515</td>\n",
       "    </tr>\n",
       "    <tr>\n",
       "      <th>170750;F;41;MAR;SPC;9379</th>\n",
       "      <th>00;10;1.1;0</th>\n",
       "      <td>482520</td>\n",
       "      <td>GRD</td>\n",
       "      <td>ÎÁË ÈÐÊÓÒÑÊÀß</td>\n",
       "      <td>30000</td>\n",
       "      <td>0</td>\n",
       "      <td>0</td>\n",
       "      <td>482520</td>\n",
       "    </tr>\n",
       "    <tr>\n",
       "      <th>170751;F;31;MAR;SPC;13990</th>\n",
       "      <th>00;6;1.43;0</th>\n",
       "      <td>485914</td>\n",
       "      <td>GRD</td>\n",
       "      <td>ÎÁË ÊÈÐÎÂÑÊÀß</td>\n",
       "      <td>20000</td>\n",
       "      <td>2</td>\n",
       "      <td>0</td>\n",
       "      <td>485914</td>\n",
       "    </tr>\n",
       "  </tbody>\n",
       "</table>\n",
       "</div>"
      ],
      "text/plain": [
       "                                            0    1                 2      3  \\\n",
       "170747;F;48;MAR;UMN;16558 00;10;1.1;0  370409  GRD      ÕÀÊÀÑÈß ÐÅÑÏ  34000   \n",
       "170748;M;29;MAR;SPC;7028  72;6;1.4;0   377281  SCH   ÎÁË ÊÅÌÅÐÎÂÑÊÀß  19000   \n",
       "170749;F;20;UNM;SPC;13019 00;10;1.6;0  538515  SCH  ÎÁË ÁÅËÃÎÐÎÄÑÊÀß  25000   \n",
       "170750;F;41;MAR;SPC;9379  00;10;1.1;0  482520  GRD     ÎÁË ÈÐÊÓÒÑÊÀß  30000   \n",
       "170751;F;31;MAR;SPC;13990 00;6;1.43;0  485914  GRD     ÎÁË ÊÈÐÎÂÑÊÀß  20000   \n",
       "\n",
       "                                       4  5 client_id  \n",
       "170747;F;48;MAR;UMN;16558 00;10;1.1;0  2  0    370409  \n",
       "170748;M;29;MAR;SPC;7028  72;6;1.4;0   3  0    377281  \n",
       "170749;F;20;UNM;SPC;13019 00;10;1.6;0  1  0    538515  \n",
       "170750;F;41;MAR;SPC;9379  00;10;1.1;0  0  0    482520  \n",
       "170751;F;31;MAR;SPC;13990 00;6;1.43;0  2  0    485914  "
      ]
     },
     "execution_count": 212,
     "metadata": {},
     "output_type": "execute_result"
    }
   ],
   "source": [
    "credit_test_splitted[[\"client_id\"]] =credit_test_splitted[0].str.split(\";\",expand=True)\n",
    "credit_test_splitted.head()"
   ]
  },
  {
   "cell_type": "code",
   "execution_count": 219,
   "metadata": {},
   "outputs": [
    {
     "data": {
      "text/plain": [
       "Index([0, 1, 2, 3, 4, 5, 'client_id'], dtype='object')"
      ]
     },
     "execution_count": 219,
     "metadata": {},
     "output_type": "execute_result"
    }
   ],
   "source": [
    "credit_test_splitted.columns"
   ]
  },
  {
   "cell_type": "code",
   "execution_count": 235,
   "metadata": {},
   "outputs": [
    {
     "data": {
      "text/html": [
       "<div>\n",
       "<style scoped>\n",
       "    .dataframe tbody tr th:only-of-type {\n",
       "        vertical-align: middle;\n",
       "    }\n",
       "\n",
       "    .dataframe tbody tr th {\n",
       "        vertical-align: top;\n",
       "    }\n",
       "\n",
       "    .dataframe thead th {\n",
       "        text-align: right;\n",
       "    }\n",
       "</style>\n",
       "<table border=\"1\" class=\"dataframe\">\n",
       "  <thead>\n",
       "    <tr style=\"text-align: right;\">\n",
       "      <th></th>\n",
       "      <th></th>\n",
       "      <th>0</th>\n",
       "      <th>1</th>\n",
       "      <th>2</th>\n",
       "      <th>3</th>\n",
       "      <th>4</th>\n",
       "      <th>5</th>\n",
       "      <th>client_id</th>\n",
       "      <th>first_name</th>\n",
       "      <th>last</th>\n",
       "    </tr>\n",
       "  </thead>\n",
       "  <tbody>\n",
       "    <tr>\n",
       "      <th>170747;F;48;MAR;UMN;16558</th>\n",
       "      <th>00;10;1.1;0</th>\n",
       "      <td>370409</td>\n",
       "      <td>GRD</td>\n",
       "      <td>ÕÀÊÀÑÈß ÐÅÑÏ</td>\n",
       "      <td>34000</td>\n",
       "      <td>2</td>\n",
       "      <td>0</td>\n",
       "      <td>370409</td>\n",
       "      <td>[370409]</td>\n",
       "      <td>[370409]</td>\n",
       "    </tr>\n",
       "    <tr>\n",
       "      <th>170748;M;29;MAR;SPC;7028</th>\n",
       "      <th>72;6;1.4;0</th>\n",
       "      <td>377281</td>\n",
       "      <td>SCH</td>\n",
       "      <td>ÎÁË ÊÅÌÅÐÎÂÑÊÀß</td>\n",
       "      <td>19000</td>\n",
       "      <td>3</td>\n",
       "      <td>0</td>\n",
       "      <td>377281</td>\n",
       "      <td>[377281]</td>\n",
       "      <td>[377281]</td>\n",
       "    </tr>\n",
       "    <tr>\n",
       "      <th>170749;F;20;UNM;SPC;13019</th>\n",
       "      <th>00;10;1.6;0</th>\n",
       "      <td>538515</td>\n",
       "      <td>SCH</td>\n",
       "      <td>ÎÁË ÁÅËÃÎÐÎÄÑÊÀß</td>\n",
       "      <td>25000</td>\n",
       "      <td>1</td>\n",
       "      <td>0</td>\n",
       "      <td>538515</td>\n",
       "      <td>[538515]</td>\n",
       "      <td>[538515]</td>\n",
       "    </tr>\n",
       "    <tr>\n",
       "      <th>170750;F;41;MAR;SPC;9379</th>\n",
       "      <th>00;10;1.1;0</th>\n",
       "      <td>482520</td>\n",
       "      <td>GRD</td>\n",
       "      <td>ÎÁË ÈÐÊÓÒÑÊÀß</td>\n",
       "      <td>30000</td>\n",
       "      <td>0</td>\n",
       "      <td>0</td>\n",
       "      <td>482520</td>\n",
       "      <td>[482520]</td>\n",
       "      <td>[482520]</td>\n",
       "    </tr>\n",
       "    <tr>\n",
       "      <th>170751;F;31;MAR;SPC;13990</th>\n",
       "      <th>00;6;1.43;0</th>\n",
       "      <td>485914</td>\n",
       "      <td>GRD</td>\n",
       "      <td>ÎÁË ÊÈÐÎÂÑÊÀß</td>\n",
       "      <td>20000</td>\n",
       "      <td>2</td>\n",
       "      <td>0</td>\n",
       "      <td>485914</td>\n",
       "      <td>[485914]</td>\n",
       "      <td>[485914]</td>\n",
       "    </tr>\n",
       "  </tbody>\n",
       "</table>\n",
       "</div>"
      ],
      "text/plain": [
       "                                            0    1                 2      3  \\\n",
       "170747;F;48;MAR;UMN;16558 00;10;1.1;0  370409  GRD      ÕÀÊÀÑÈß ÐÅÑÏ  34000   \n",
       "170748;M;29;MAR;SPC;7028  72;6;1.4;0   377281  SCH   ÎÁË ÊÅÌÅÐÎÂÑÊÀß  19000   \n",
       "170749;F;20;UNM;SPC;13019 00;10;1.6;0  538515  SCH  ÎÁË ÁÅËÃÎÐÎÄÑÊÀß  25000   \n",
       "170750;F;41;MAR;SPC;9379  00;10;1.1;0  482520  GRD     ÎÁË ÈÐÊÓÒÑÊÀß  30000   \n",
       "170751;F;31;MAR;SPC;13990 00;6;1.43;0  485914  GRD     ÎÁË ÊÈÐÎÂÑÊÀß  20000   \n",
       "\n",
       "                                       4  5 client_id first_name      last  \n",
       "170747;F;48;MAR;UMN;16558 00;10;1.1;0  2  0    370409   [370409]  [370409]  \n",
       "170748;M;29;MAR;SPC;7028  72;6;1.4;0   3  0    377281   [377281]  [377281]  \n",
       "170749;F;20;UNM;SPC;13019 00;10;1.6;0  1  0    538515   [538515]  [538515]  \n",
       "170750;F;41;MAR;SPC;9379  00;10;1.1;0  0  0    482520   [482520]  [482520]  \n",
       "170751;F;31;MAR;SPC;13990 00;6;1.43;0  2  0    485914   [485914]  [485914]  "
      ]
     },
     "execution_count": 235,
     "metadata": {},
     "output_type": "execute_result"
    }
   ],
   "source": [
    "#credit_test_splitted[0]\n",
    "credit_test_splitted['last'] = credit_test_splitted.apply(lambda row: row[0].split(), axis=1)\n",
    "credit_test_splitted.head()"
   ]
  },
  {
   "cell_type": "code",
   "execution_count": 237,
   "metadata": {},
   "outputs": [
    {
     "data": {
      "text/html": [
       "<div>\n",
       "<style scoped>\n",
       "    .dataframe tbody tr th:only-of-type {\n",
       "        vertical-align: middle;\n",
       "    }\n",
       "\n",
       "    .dataframe tbody tr th {\n",
       "        vertical-align: top;\n",
       "    }\n",
       "\n",
       "    .dataframe thead th {\n",
       "        text-align: right;\n",
       "    }\n",
       "</style>\n",
       "<table border=\"1\" class=\"dataframe\">\n",
       "  <thead>\n",
       "    <tr style=\"text-align: right;\">\n",
       "      <th></th>\n",
       "      <th></th>\n",
       "      <th>0</th>\n",
       "    </tr>\n",
       "  </thead>\n",
       "  <tbody>\n",
       "    <tr>\n",
       "      <th>170747;F;48;MAR;UMN;16558</th>\n",
       "      <th>00;10;1.1;0</th>\n",
       "      <td>370409</td>\n",
       "    </tr>\n",
       "    <tr>\n",
       "      <th>170748;M;29;MAR;SPC;7028</th>\n",
       "      <th>72;6;1.4;0</th>\n",
       "      <td>377281</td>\n",
       "    </tr>\n",
       "    <tr>\n",
       "      <th>170749;F;20;UNM;SPC;13019</th>\n",
       "      <th>00;10;1.6;0</th>\n",
       "      <td>538515</td>\n",
       "    </tr>\n",
       "    <tr>\n",
       "      <th>170750;F;41;MAR;SPC;9379</th>\n",
       "      <th>00;10;1.1;0</th>\n",
       "      <td>482520</td>\n",
       "    </tr>\n",
       "    <tr>\n",
       "      <th>170751;F;31;MAR;SPC;13990</th>\n",
       "      <th>00;6;1.43;0</th>\n",
       "      <td>485914</td>\n",
       "    </tr>\n",
       "    <tr>\n",
       "      <th>...</th>\n",
       "      <th>...</th>\n",
       "      <td>...</td>\n",
       "    </tr>\n",
       "    <tr>\n",
       "      <th>262682;M;41;MAR;SPC;10114</th>\n",
       "      <th>00;12;1.9;0</th>\n",
       "      <td>347262</td>\n",
       "    </tr>\n",
       "    <tr>\n",
       "      <th>262683;M;33;UNM;SPC;14807</th>\n",
       "      <th>00;6;1.6;0</th>\n",
       "      <td>404430</td>\n",
       "    </tr>\n",
       "    <tr>\n",
       "      <th>262684;F;25;MAR;SPC;19718</th>\n",
       "      <th>00;10;1.4;0</th>\n",
       "      <td>341982</td>\n",
       "    </tr>\n",
       "    <tr>\n",
       "      <th>262685;M;26;UNM;SPC;22258</th>\n",
       "      <th>00;10;1.43;0</th>\n",
       "      <td>698764</td>\n",
       "    </tr>\n",
       "    <tr>\n",
       "      <th>262686;M;44;MAR;SPC;31176</th>\n",
       "      <th>00;6;1.5;0</th>\n",
       "      <td>238366</td>\n",
       "    </tr>\n",
       "  </tbody>\n",
       "</table>\n",
       "<p>91940 rows × 1 columns</p>\n",
       "</div>"
      ],
      "text/plain": [
       "                                             0\n",
       "170747;F;48;MAR;UMN;16558 00;10;1.1;0   370409\n",
       "170748;M;29;MAR;SPC;7028  72;6;1.4;0    377281\n",
       "170749;F;20;UNM;SPC;13019 00;10;1.6;0   538515\n",
       "170750;F;41;MAR;SPC;9379  00;10;1.1;0   482520\n",
       "170751;F;31;MAR;SPC;13990 00;6;1.43;0   485914\n",
       "...                                        ...\n",
       "262682;M;41;MAR;SPC;10114 00;12;1.9;0   347262\n",
       "262683;M;33;UNM;SPC;14807 00;6;1.6;0    404430\n",
       "262684;F;25;MAR;SPC;19718 00;10;1.4;0   341982\n",
       "262685;M;26;UNM;SPC;22258 00;10;1.43;0  698764\n",
       "262686;M;44;MAR;SPC;31176 00;6;1.5;0    238366\n",
       "\n",
       "[91940 rows x 1 columns]"
      ]
     },
     "execution_count": 237,
     "metadata": {},
     "output_type": "execute_result"
    }
   ],
   "source": [
    "credit_test_splitted[0].str.split(\" \" ,expand = True)"
   ]
  },
  {
   "cell_type": "code",
   "execution_count": null,
   "metadata": {},
   "outputs": [],
   "source": []
  }
 ],
 "metadata": {
  "kernelspec": {
   "display_name": "Python 3.10.4 64-bit",
   "language": "python",
   "name": "python3"
  },
  "language_info": {
   "codemirror_mode": {
    "name": "ipython",
    "version": 3
   },
   "file_extension": ".py",
   "mimetype": "text/x-python",
   "name": "python",
   "nbconvert_exporter": "python",
   "pygments_lexer": "ipython3",
   "version": "3.10.4"
  },
  "orig_nbformat": 4,
  "vscode": {
   "interpreter": {
    "hash": "2c5de09359013d1c56e8427220dfc5665a4ed2f9dbc3b0771fee3345046dc8b6"
   }
  }
 },
 "nbformat": 4,
 "nbformat_minor": 2
}
